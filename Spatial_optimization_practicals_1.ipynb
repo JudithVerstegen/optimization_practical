{
  "nbformat": 4,
  "nbformat_minor": 0,
  "metadata": {
    "colab": {
      "provenance": [],
      "collapsed_sections": [
        "xDh1ex7Q5eCL",
        "EcSxwHiG7Vn0"
      ],
      "toc_visible": true
    },
    "kernelspec": {
      "name": "python3",
      "display_name": "Python 3"
    },
    "language_info": {
      "name": "python"
    }
  },
  "cells": [
    {
      "cell_type": "markdown",
      "source": [
        "# Defining and solving continuous optimization problems\n",
        "### By Moritz Hildemann and Judith Verstegen, 2023\n",
        "\n",
        "The following tutorial has the intention to give you a first idea on how to define a continuous (spatial) problem and how optimization algorithms work to solve the particular problem."
      ],
      "metadata": {
        "id": "xDh1ex7Q5eCL"
      }
    },
    {
      "cell_type": "markdown",
      "source": [
        "#Most important terms\n",
        "\n",
        "##Problem\n",
        "An optimization problem is defined as the minimization or maximization of one or several objective functions that can be subject to none, one, or several constraints being used to validate the feasibility of solutions (Chiandussi et al, 2012). Solutions are found by changing the decision variables.\n",
        "\n",
        "##Decision variable(s)\n",
        "A decision (or control) variable is a variable that can be changed to alter the solution and thereby the optimality of the modelled problem. It represents the part of the system that can be controlled (e.g. a policy variable).\n",
        "\n",
        "##Solution\n",
        "Every solution to a the problem is one (spatial) configuration defined by the value(s) of the decision variable(s).\n",
        "\n",
        "##Objective(s)\n",
        "Objectives represent the wishes of the decision maker(s), i.e. what should be maximized or minimized in order to have an 'optimal' solution.\n",
        "\n",
        "##Objective function(s)\n",
        "An objective function is the (mathematical) function to compute the objective value on the basis of the solution. That means that the solution is always input to the objective function.\n",
        "\n",
        "##Constraint(s)\n",
        "Constraints are set to limit the values the decision variable can take, or are used to filter out solutions that are infeasible (despite having valid decision variable values)."
      ],
      "metadata": {
        "id": "EcSxwHiG7Vn0"
      }
    },
    {
      "cell_type": "markdown",
      "source": [
        "#Problem: Finding the peak of a mountain"
      ],
      "metadata": {
        "id": "U78hHv05_NXF"
      }
    },
    {
      "cell_type": "markdown",
      "source": [
        "So, in general, optimization algorithms aim to find the maximum or minimum of one objective function, or the multiple maxima/minima of a combination of conflicting objective functions. We start with a simple and easy to picture optimization problem with one objective and two decision variables: a hiker wants to find the top of the mountain (described by an **objective function**). She starts at the parking lot at the bottom of the mountain and can change her location (x and y coordinate, the **two decision variables**) by walking. She should not wander off the map (**constraints** in possible values of x and y)."
      ],
      "metadata": {
        "id": "6r6FoqS6Jlt-"
      }
    },
    {
      "cell_type": "markdown",
      "source": [
        "***Question 1: Is this a minimization or a maximization problem?***"
      ],
      "metadata": {
        "id": "9b22g2xbVbp1"
      }
    },
    {
      "cell_type": "code",
      "execution_count": null,
      "metadata": {
        "id": "aWoYRyLE5bh9"
      },
      "outputs": [],
      "source": [
        "import numpy as np\n",
        "import matplotlib.pyplot as plt\n",
        "from matplotlib import cm\n",
        "from mpl_toolkits.mplot3d import Axes3D\n",
        "from copy import deepcopy\n",
        "import heapq\n",
        "\n",
        "# Define a map for plotting the mountain and the position of the hiker\n",
        "# Map coordinates range between 0 and 1 for both x and y\n",
        "X = np.linspace(0, 1, 100)\n",
        "Y = np.linspace(0, 1, 100)\n",
        "X, Y = np.meshgrid(X, Y)\n",
        "\n",
        "# Use the rastrigin function to simulate the mountain\n",
        "# Note that it will be our objective to maximize this function,\n",
        "# Since the hiker aims to reach the top\n",
        "Z = (X**2 - 10 * np.cos(2 * np.pi * X)) + \\\n",
        "  (Y**2 - 10 * np.cos(2 * np.pi * Y)) + 20\n",
        "\n",
        "# Create a matplotlib figure and plot the mountain\n",
        "fig = plt.figure()\n",
        "ax = fig.add_subplot(projection='3d')\n",
        "ax.plot_surface(X, Y, Z, rstride=1, cstride=10,\n",
        "  cmap=cm.Oranges, linewidth=0.08,\n",
        "  antialiased=True)\n",
        "\n",
        "plt.show()"
      ]
    },
    {
      "cell_type": "code",
      "source": [
        "def get_z(x,y):\n",
        "  z = (x**2 - 10 * np.cos(2 * np.pi * x)) + \\\n",
        "      (y**2 - 10 * np.cos(2 * np.pi * y)) + 20\n",
        "  return z\n",
        "\n",
        "# For the position of the hiker on the mountain (x,y,z) we create a class Point\n",
        "class Point:\n",
        "  def __init__(self, x,y,z_function):\n",
        "    self.x = x\n",
        "    self.y = y\n",
        "    # Get the corresponding elevation from the rastrigin function\n",
        "    self.z = z_function(self.x,self.y)\n",
        ""
      ],
      "metadata": {
        "id": "CCy-F_TXGY7X"
      },
      "execution_count": null,
      "outputs": []
    },
    {
      "cell_type": "markdown",
      "source": [
        "***Question 2: Why is the z-function variable? In other words, when would the z-function be different?***"
      ],
      "metadata": {
        "id": "xIgh4-rEV4Mb"
      }
    },
    {
      "cell_type": "code",
      "source": [
        "# Plot function for the mountain\n",
        "def plot_mountain(fig,X,Y,Z):\n",
        "  ax = fig.add_subplot(projection='3d')\n",
        "  ax.plot_surface(X, Y, Z, rstride=1, cstride=10,\n",
        "    cmap=cm.Oranges, linewidth=0.08, alpha=0.4,\n",
        "    antialiased=True)\n",
        "  return ax\n",
        "\n",
        "# Plot function for the position of the hiker,\n",
        "# where p is a Point instance\n",
        "def plot_position(ax, p, z_offset=2, color='b', size = 40):\n",
        "  # Offset the point to make sure it is visible\n",
        "  ax.scatter(p.x, p.y, p.z + z_offset, marker='o', s=size, c= color, \\\n",
        "             edgecolors='black',linewidths=0.2)\n",
        "  return ax"
      ],
      "metadata": {
        "id": "sxeLSlQtG6st"
      },
      "execution_count": null,
      "outputs": []
    },
    {
      "cell_type": "code",
      "source": [
        "# Let's test the class and functions defined above\n",
        "# Define a starting point of the hike\n",
        "p_start = Point(1, 0, get_z)\n",
        "\n",
        "# Set up an empty plot\n",
        "fig = plt.figure()\n",
        "# Produce the mountain plot\n",
        "ax = plot_mountain(fig,X,Y,Z)\n",
        "# Plot the hiker's position\n",
        "plot_position(ax, p_start)\n",
        "# Show the plot\n",
        "plt.show()"
      ],
      "metadata": {
        "id": "uj_bj7eT3M1L"
      },
      "execution_count": null,
      "outputs": []
    },
    {
      "cell_type": "markdown",
      "source": [
        "#Problem definition\n",
        "Now, we have a landscape and a starting point of the hike. However, we still need to formulate the problem. Furthermore, we need the objective function to quantify the quality of potential solutions to the problem."
      ],
      "metadata": {
        "id": "BKBcDwVGnOLH"
      }
    },
    {
      "cell_type": "code",
      "source": [
        "# To do that, we first create a class to formalize solutions\n",
        "# and make sure we can keep track of them by numbering them\n",
        "class Solution:\n",
        "    _id = 0\n",
        "\n",
        "    def __init__(self, representation):\n",
        "        self._solution_id = Solution._id\n",
        "        Solution._id += 1\n",
        "        # The representation is what the solution looks like\n",
        "        # In spatial problems, this is normally the spatial representation,\n",
        "        # for example a raster, a line, or a point\n",
        "        # The representation will be input to the objective function\n",
        "        self.representation = representation\n",
        "\n",
        "    def verbose(self, print_representation=True):\n",
        "        print(\"Solution ID: %d\\nFitness: %.2f\\nIs admissible? %s\" %\n",
        "              (self._solution_id, self.fitness, self.valid))"
      ],
      "metadata": {
        "id": "9SVEntj0wQ9o"
      },
      "execution_count": null,
      "outputs": []
    },
    {
      "cell_type": "markdown",
      "source": [
        "***Question 3: Why does the solution have a means to print whether it is admissible? Under what conditions would it not be admissible?***"
      ],
      "metadata": {
        "id": "5yDwuy13a5-Q"
      }
    },
    {
      "cell_type": "code",
      "source": [
        "# The following class is an example for a very generic problem\n",
        "# We'll use it as our superclass\n",
        "class Problem:\n",
        "    def __init__(self, search_space, objective_function, minimization):\n",
        "        self.search_space = search_space\n",
        "        self.objective_function = objective_function\n",
        "        self.minimization = minimization\n",
        "\n",
        "    def validate(self, solution):\n",
        "      pass\n",
        "    def evaluate(self, solution):\n",
        "      pass"
      ],
      "metadata": {
        "id": "3NMcX-BqoMnn"
      },
      "execution_count": null,
      "outputs": []
    },
    {
      "cell_type": "code",
      "source": [
        "# Now, we use the same class structure to define our own hiking problem\n",
        "class ContinuousProblem(Problem):\n",
        "\n",
        "    def __init__(self, search_space, objective_function, minimization=False):\n",
        "        Problem.__init__(self, search_space, objective_function, minimization)\n",
        "\n",
        "    def evaluate(self, solution):\n",
        "      # The validation process evaluates the objective function\n",
        "      # Thereby, it determines the fitness of the solution\n",
        "      point = solution.representation\n",
        "\n",
        "      # The fitness is determined only when the solution is valid\n",
        "      # i.e. when it meets the contraint(s)\n",
        "      solution.valid = self.validate(point)\n",
        "\n",
        "      if solution.valid:\n",
        "        solution.fitness = self.objective_function(point)\n",
        "      else:\n",
        "        # If the solution is invalid, give it a very high (when minimizing)\n",
        "        # or very low (when maximizing) fitness value to indicate that\n",
        "        # it is not good\n",
        "        if self.minimization:\n",
        "          solution.fitness = np.iinfo(np.int32).max\n",
        "        else:\n",
        "          solution.fitness = 0\n",
        "\n",
        "    def validate(self, point):\n",
        "      # The validation process determines whether a solution is a feasible\n",
        "      validity=True\n",
        "      # constraint: hiker should remain on the map\n",
        "      # check whether the x position is within the defined mountain region\n",
        "      if point.x < self.search_space[0][0] or point.x > self.search_space[0][1]:\n",
        "        validity=False\n",
        "      # constraint: hiker should remain on the map\n",
        "      # check whether the y position is within the defined mountain region\n",
        "      if point.y < self.search_space[1][0] or point.y > self.search_space[1][1]:\n",
        "          validity=False\n",
        "      return validity\n"
      ],
      "metadata": {
        "id": "qVK0LJZpqfLw"
      },
      "execution_count": null,
      "outputs": []
    },
    {
      "cell_type": "code",
      "source": [
        "# The objective function to retrieve the fitness of solutions is still missing\n",
        "# Here, it is just the z-value of the position, obtainable from the Point object\n",
        "def get_elevation(point):\n",
        "  return point.z"
      ],
      "metadata": {
        "id": "FcH-8yVBw0DQ"
      },
      "execution_count": null,
      "outputs": []
    },
    {
      "cell_type": "code",
      "source": [
        "# Let's create the problem instance!\n",
        "mountain_boundary=[[0,1],[0,1]]\n",
        "hiking_problem = ContinuousProblem(search_space=mountain_boundary, \\\n",
        "                                   objective_function = get_elevation)"
      ],
      "metadata": {
        "id": "KQRv69Z6uSBg"
      },
      "execution_count": null,
      "outputs": []
    },
    {
      "cell_type": "markdown",
      "source": [
        "Now, we can test our problem with an example solution (a point, value for the decision variables x and y)."
      ],
      "metadata": {
        "id": "VpPgn2yXVtYI"
      }
    },
    {
      "cell_type": "code",
      "source": [
        "# Evaluate the starting position of the hiker\n",
        "start_solution = Solution(representation=p_start)\n",
        "hiking_problem.evaluate(start_solution)\n",
        "print(\"Start position\")\n",
        "start_solution.verbose()\n",
        "\n",
        "# Evaluate an exemplary solution with a position at  x = 0.3 and y = 0.3\n",
        "test_solution = Solution(representation=Point(0.3,0.6,get_z))\n",
        "hiking_problem.evaluate(test_solution)\n",
        "print(\"\\nTest position\")\n",
        "test_solution.verbose()\n",
        "\n",
        "# Set up a new empty plot\n",
        "fig = plt.figure()\n",
        "# Produce the mountain\n",
        "ax = plot_mountain(fig,X,Y,Z)\n",
        "# Plot the starting position of the hiker\n",
        "ax = plot_position(ax, start_solution.representation)\n",
        "# Plot the test solution position of the hiker\n",
        "ax = plot_position(ax, test_solution.representation, color = 'black' )\n",
        "# Show the figure\n",
        "plt.show()"
      ],
      "metadata": {
        "id": "SCat0tE2yE5R"
      },
      "execution_count": null,
      "outputs": []
    },
    {
      "cell_type": "markdown",
      "source": [
        "***Question 4: Is the test position better than the start position? How do you know?***"
      ],
      "metadata": {
        "id": "BYJzkij_cpBm"
      }
    },
    {
      "cell_type": "markdown",
      "source": [
        "# Search algorithms\n",
        "\n",
        "We would like to test multiple solutions in order to find the best one. We can do that, for example, manually, as we did above, or brute force, by writing a loop over all possible combinations or valid x and y coordinates.\n",
        "\n",
        "For this simple problem and small study area that may work. However, usually spatial problems are large in spatial extent, in complexity, and/or in number of objectives. Therefore, heuristics have been developed to go through the search space in a 'smart' way, to find near-optimal solutions in a feasible amount of time.\n",
        "\n",
        "Let's implement some of these algorithms, and use them on our simple problem."
      ],
      "metadata": {
        "id": "3h4cySHhXa8X"
      }
    },
    {
      "cell_type": "code",
      "source": [
        "# Comparable to the general Problem class,\n",
        "# we define a general Search Algorithm class first, as our superclass.\n",
        "\n",
        "class SearchAlgorithm:\n",
        "    def __init__(self, problem_instance):\n",
        "      self.problem_instance = problem_instance\n",
        "\n",
        "    def initialize(self):\n",
        "      pass\n",
        "\n",
        "    def search(self, n_iterations, report=False):\n",
        "      pass\n",
        "\n",
        "    def get_best(self, candidate_a, candidate_b):\n",
        "      # What is good or bad depends on whether we want to maximize or minimize\n",
        "      if self.problem_instance.minimization:\n",
        "        # For minimization, lower objective values are better\n",
        "        if candidate_a.fitness >= candidate_b.fitness:\n",
        "          return candidate_b\n",
        "        else:\n",
        "          return candidate_a\n",
        "      else:\n",
        "        # For maximization, higher objective values are better\n",
        "        if candidate_a.fitness <= candidate_b.fitness:\n",
        "          return candidate_b\n",
        "        else:\n",
        "          return candidate_a\n",
        "\n",
        "    # We define reporting functions\n",
        "    # They are not a requirement, but convenient for understanding and debugging\n",
        "    def verbose_reporter(self):\n",
        "      print(\"Best solution overall:\")\n",
        "      self.best_solution.verbose()\n",
        "\n",
        "    def verbose_reporter_inner(self, solution, iteration):\n",
        "      print(\"> > > Current best solution at iteration %d:\" % iteration)\n",
        "      solution.verbose()\n",
        "\n"
      ],
      "metadata": {
        "id": "Oy5gXLZhCjJF"
      },
      "execution_count": null,
      "outputs": []
    },
    {
      "cell_type": "markdown",
      "source": [
        "## Random search\n",
        "\n",
        "The first algorithm you will learn about is the random search. All heuristic search functions contain elements of randomness. In general, advanced search algorithms have the goal of outperforming the random search. Therefore, random search is a good starting point to learn how a search algorithm works."
      ],
      "metadata": {
        "id": "Jm4VrLcGXWhZ"
      }
    },
    {
      "cell_type": "code",
      "source": [
        "# We define a function to help us simulate random walk\n",
        "def random_neighbor_position(random_state, current_position, max_stepsize,\\\n",
        "                             z_function):\n",
        "\n",
        "  def positive_or_negative():\n",
        "    if random_state.random() < 0.5:\n",
        "      return 1\n",
        "    else:\n",
        "      return -1\n",
        "\n",
        "  current_x = current_position.x\n",
        "  current_y = current_position.y\n",
        "\n",
        "  # Find a neighboring x,y position to move towards\n",
        "  random_neighbor_x = current_x + (positive_or_negative() * \\\n",
        "                                   (random_state.random() * max_stepsize))\n",
        "  random_neighbor_y = current_y + (positive_or_negative() * \\\n",
        "                                   (random_state.random() * max_stepsize))\n",
        "  return Point(random_neighbor_x, random_neighbor_y, z_function)\n",
        "\n",
        "# And a class for the random search search algorithm\n",
        "class RandomSearch(SearchAlgorithm):\n",
        "  def __init__(self, problem_instance, random_state, initial_solution, \\\n",
        "               z_function, neighborhood_function = random_neighbor_position,\n",
        "               max_stepsize = 0.01):\n",
        "    SearchAlgorithm.__init__(self, problem_instance)\n",
        "    self.random_state = random_state\n",
        "    # When creating the object, the best solution is the inital one\n",
        "    self.best_solution = initial_solution\n",
        "    self.z_function = z_function\n",
        "    self.neighborhood_function = neighborhood_function\n",
        "    self.max_stepsize = max_stepsize\n",
        "    self.problem_instance.evaluate(self.best_solution)\n",
        "\n",
        "  def search(self, n_iterations, report=False):\n",
        "    all_solutions = []\n",
        "    i = self.best_solution\n",
        "\n",
        "    # Perform random search for a predefined number of iterations\n",
        "    for iteration in range(n_iterations):\n",
        "      j = self.generate_new_position(i.representation)\n",
        "      i = self.get_best(i, j)\n",
        "      all_solutions.append(i)\n",
        "\n",
        "      if report:\n",
        "        self.verbose_reporter_inner(i, iteration)\n",
        "\n",
        "    self.best_solution=i\n",
        "\n",
        "    return all_solutions\n",
        "\n",
        "  def generate_new_position(self, current_position):\n",
        "    random_new_position = self.neighborhood_function(self.random_state, current_position,\n",
        "                                                     self.max_stepsize, self.z_function)\n",
        "    random_new_solution = Solution(random_new_position)\n",
        "    self.problem_instance.evaluate(random_new_solution)\n",
        "    return random_new_solution"
      ],
      "metadata": {
        "id": "NKh5V7QhC6j0"
      },
      "execution_count": null,
      "outputs": []
    },
    {
      "cell_type": "markdown",
      "source": [
        "In the next step, we define a pseudo random state."
      ],
      "metadata": {
        "id": "gaOc3eIOZItw"
      }
    },
    {
      "cell_type": "code",
      "source": [
        "# Creates a pseudo random number generator\n",
        "def get_random_state(seed):\n",
        "  return np.random.RandomState(seed)\n",
        "# Setup random state\n",
        "seed=1\n",
        "random_state = get_random_state(seed)\n",
        "# Test the generator\n",
        "print(random_state.random())\n",
        "print(random_state.random())"
      ],
      "metadata": {
        "id": "yF2WQftlYpaH"
      },
      "execution_count": null,
      "outputs": []
    },
    {
      "cell_type": "markdown",
      "source": [
        "Now, we can create a RandomSearch instance and start the search for optimal solutions"
      ],
      "metadata": {
        "id": "x435wHSZAwjX"
      }
    },
    {
      "cell_type": "code",
      "source": [
        "# Perform Random Search\n",
        "start_solution = Solution(p_start)\n",
        "hiking_problem.evaluate(start_solution)\n",
        "\n",
        "rs = RandomSearch(hiking_problem, random_state, \\\n",
        "                  start_solution, get_z)\n",
        "\n",
        "random_search_solutions = rs.search(n_iterations=400, report=False)\n",
        "rs.verbose_reporter()"
      ],
      "metadata": {
        "id": "v4r_O4wIZZ42"
      },
      "execution_count": null,
      "outputs": []
    },
    {
      "cell_type": "code",
      "source": [
        "#set up an empty plot\n",
        "fig = plt.figure()\n",
        "# produce the mountain plot\n",
        "ax = plot_mountain(fig,X,Y,Z)\n",
        "#produce the hike position plot\n",
        "ax = plot_position(ax, p_start)\n",
        "for i in range(len(random_search_solutions)):\n",
        "  ax = plot_position(ax, random_search_solutions[i].representation, \\\n",
        "                     color = 'black', size = 5 )\n",
        "#show the plots\n",
        "plt.show()"
      ],
      "metadata": {
        "id": "_NNvbkmSpEOy"
      },
      "execution_count": null,
      "outputs": []
    },
    {
      "cell_type": "markdown",
      "source": [
        "You can run the same search with another seed and compare the results to see how different the optimum can be as well as the 'route' towards the optimum."
      ],
      "metadata": {
        "id": "Nfe-YsowOYRJ"
      }
    },
    {
      "cell_type": "markdown",
      "source": [
        "***Question 5: What does the path of the Random Search algorithm towards the top of the mountain look like?***"
      ],
      "metadata": {
        "id": "oQvStuwNdaTh"
      }
    },
    {
      "cell_type": "markdown",
      "source": [
        "## Simulated Annealing\n",
        "\n",
        "Annealing is a procedure that defines the optimal molecular arrangements of metal particles where the potential energy of the mass is minimized. The metal cools gradually after being subjected to high heat; the lower the temperature becomes, the less the particles can move, so the arrangement gradually stabilizes.\n",
        "\n",
        "The Simulated Annealing (SA) algorithm adopts an iterative movement according to the variable temperature parameter which imitates the annealing transaction of the metals (Eren et al. 2017). Please see the figure below for a conceptual overview of SA."
      ],
      "metadata": {
        "id": "NsXzLbdXPkbr"
      }
    },
    {
      "cell_type": "markdown",
      "source": [
        "![image.png](data:image/png;base64,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)"
      ],
      "metadata": {
        "id": "QzkL7kjVNch8"
      }
    },
    {
      "cell_type": "markdown",
      "source": [
        "Again, we define a Python class. This one is based on Random Search."
      ],
      "metadata": {
        "id": "PxhGe5FWOAsO"
      }
    },
    {
      "cell_type": "code",
      "source": [
        "import math\n",
        "\n",
        "class Annealing(RandomSearch):\n",
        "  def __init__(self, problem_instance, random_state, initial_solution, \\\n",
        "               z_function, neighborhood_function = random_neighbor_position, \\\n",
        "               max_stepsize = 0.01, initial_temperature = 1, alpha = 0.01):\n",
        "    RandomSearch.__init__(self, problem_instance, random_state,initial_solution,\n",
        "                          z_function, neighborhood_function, max_stepsize)\n",
        "    # The two parameters specific to SA\n",
        "    self.initial_temperature = initial_temperature\n",
        "    self.alpha = alpha\n",
        "\n",
        "  def search(self, n_iterations, report=False):\n",
        "\n",
        "    all_solutions = []\n",
        "    current_temperature = self.initial_temperature\n",
        "    i = self.best_solution\n",
        "\n",
        "    for iteration in range(n_iterations):\n",
        "      # Same as for random search\n",
        "      j = self.generate_new_position(i.representation)\n",
        "      # But now, the acceptance of the new solution depends on the temperature\n",
        "      i = self.get_p_best(i, j, current_temperature)\n",
        "      all_solutions.append(i)\n",
        "\n",
        "      if report:\n",
        "        self.verbose_reporter_inner(i, iteration)\n",
        "\n",
        "      # update the temperature, only if not too small already\n",
        "      if current_temperature>=0.001:\n",
        "        current_temperature -= self.alpha\n",
        "        # ensure that it has not gone below zero\n",
        "        if current_temperature <= 0:\n",
        "          current_temperature = 0.001\n",
        "\n",
        "\n",
        "    self.best_solution=i\n",
        "\n",
        "    return all_solutions\n",
        "\n",
        "  def get_p_best(self, candidate_a, candidate_b, actual_c):\n",
        "\n",
        "    if candidate_b.valid:\n",
        "      if self.problem_instance.minimization:\n",
        "        # If the new solution is better we accept it\n",
        "        if candidate_b.fitness <= candidate_a.fitness:\n",
        "          solution = candidate_b\n",
        "        # If the new solution is worse we accept it with a certain probability\n",
        "        # Where the probability becomes lower with lower temperatures\n",
        "        elif self.random_state.uniform(0, 1) < \\\n",
        "        (math.exp((candidate_a.fitness - candidate_b.fitness) / actual_c)):\n",
        "          solution = candidate_b\n",
        "        else:\n",
        "          solution = candidate_a\n",
        "      else:\n",
        "        # Maximization, all the same, but the other way around\n",
        "        # if the new solution is better we accept it\n",
        "        if candidate_b.fitness >= candidate_a.fitness:\n",
        "          solution = candidate_b\n",
        "        # If the new solution is worse we accept it with a certain probability\n",
        "        # Where the probability becomes lower with lower temperatures\n",
        "        elif self.random_state.uniform(0, 1) < \\\n",
        "        (math.exp((candidate_b.fitness - candidate_a.fitness) / actual_c)):\n",
        "          solution = candidate_b\n",
        "        else:\n",
        "          solution = candidate_a\n",
        "    else:\n",
        "      # If b is invalid, we take a\n",
        "      solution = candidate_a\n",
        "\n",
        "    return solution\n",
        "\n",
        "  def generate_new_position(self, current_position):\n",
        "    random_new_position = self.neighborhood_function(self.random_state, \\\n",
        "                                          current_position,\n",
        "                                          self.max_stepsize, self.z_function)\n",
        "    random_new_solution = Solution(random_new_position)\n",
        "    self.problem_instance.evaluate(random_new_solution)\n",
        "    return random_new_solution"
      ],
      "metadata": {
        "id": "dTbsQBD3NBGq"
      },
      "execution_count": null,
      "outputs": []
    },
    {
      "cell_type": "markdown",
      "source": [
        "***Question 6: What is the meaning/function of the parameter alpha? Do you think that the value of alpha is crucial for the current optimization problem?***"
      ],
      "metadata": {
        "id": "3_Yp4K2Xe0Mw"
      }
    },
    {
      "cell_type": "code",
      "source": [
        "random_state = get_random_state(20)\n",
        "sa = Annealing(problem_instance = hiking_problem, random_state = random_state,\\\n",
        "               initial_solution = start_solution, z_function = get_z)\n",
        "\n",
        "simulated_annealing_solutions = sa.search(n_iterations=400, report=False)\n",
        "sa.verbose_reporter()"
      ],
      "metadata": {
        "id": "Ixh3o9OLX3i3"
      },
      "execution_count": null,
      "outputs": []
    },
    {
      "cell_type": "markdown",
      "source": [
        "## Genetic Algorihms\n",
        "\n",
        "The third search algorithm introduced here is a Genetic Algorithm (GA). First, we need to define some help functions. These are determining the way solutions evolve: How solutions are selected for reproduction, how the genes of parent solutions are recombined into chilren, and how the genes of the children are mutated."
      ],
      "metadata": {
        "id": "Jt1QJyyuRkhz"
      }
    },
    {
      "cell_type": "code",
      "source": [
        "def select_best_from_parents_and_children(parent_generation, child_generation):\n",
        "  # In a GA, we do not keep a single best solution in memory\n",
        "  # But we always have a population of solutions active\n",
        "  # We create an array to story them\n",
        "  combined_population = np.hstack((parent_generation, child_generation))\n",
        "  objective_values_parents = [p.fitness for p in parent_generation]\n",
        "  objective_values_children = [c.fitness for c in child_generation]\n",
        "  all_objective_values = np.array(objective_values_parents + \\\n",
        "                                  objective_values_children)\n",
        "  # Sort by the objective values\n",
        "  better_half = np.array(heapq.nlargest(parent_generation.shape[0], \\\n",
        "                                        enumerate(all_objective_values), \\\n",
        "                                        key=lambda x: x[1]), \\\n",
        "                         dtype=np.dtype(np.int32))\n",
        "  # And get the ids of the better half\n",
        "  survival_ids = better_half[:,0]\n",
        "  return combined_population[survival_ids]\n",
        "\n",
        "def tournament_selection(population, minimization, random_state, \\\n",
        "                         selection_pressure = 0.1):\n",
        "  # Compute the tournament size\n",
        "  # Default is 10% of the population size\n",
        "  tournament_pool_size = int(len(population) * selection_pressure)\n",
        "  # Select solutions for the tournament\n",
        "  tournament_pool = random_state.choice(population, size=tournament_pool_size, \\\n",
        "                                        replace=False)\n",
        "  # Set initial winner (does not matter which one)\n",
        "  tournament_winner = tournament_pool[0]\n",
        "\n",
        "  # Compare the fitness of all solutions in the tournament\n",
        "  # To find the best one\n",
        "  if minimization:\n",
        "    for solution in tournament_pool:\n",
        "      if solution.fitness < tournament_winner.rank:\n",
        "        tournament_winner = solution\n",
        "  else:\n",
        "    for solution in tournament_pool:\n",
        "      if solution.fitness > tournament_winner.fitness:\n",
        "        tournament_winner = solution\n",
        "  return tournament_winner\n",
        "\n",
        "def geometrical_crossover(solution_A, solution_B, random_state, z_function):\n",
        "  # Given two parents, A and B\n",
        "  # Combine their genes by cutting at a random point\n",
        "  # (so, this is a \"one-point crossover\")\n",
        "  # And then recombining\n",
        "  point = random_state.uniform(low=0, high=1)\n",
        "  x_child_A = (solution_A.representation.x * point) + \\\n",
        "              (solution_B.representation.x * (1 - point))\n",
        "  y_child_A = (solution_A.representation.y * point) + \\\n",
        "              (solution_B.representation.y * (1 - point))\n",
        "\n",
        "  x_child_B = (solution_A.representation.x * (1 - point)) + \\\n",
        "              (solution_B.representation.x * point)\n",
        "  y_child_B = (solution_A.representation.y * (1 - point)) + \\\n",
        "              (solution_B.representation.y * point)\n",
        "\n",
        "  return Solution(Point(x_child_A, y_child_A, z_function)), \\\n",
        "          Solution(Point(x_child_B, y_child_B, z_function))\n",
        "\n",
        "def ball_mutation(solution, random_state, z_function, max_step_size=0.1, \\\n",
        "                  illustrate_mutation = False):\n",
        "  # In the mutations, solutions are moved a bit\n",
        "  x = random_state.uniform(low=solution.representation.x - max_step_size, \\\n",
        "                           high=solution.representation.x + max_step_size, \\\n",
        "                           size=None)\n",
        "  y = random_state.uniform(low=solution.representation.y - max_step_size, \\\n",
        "                           high=solution.representation.y + max_step_size, \\\n",
        "                           size=None)\n",
        "  # Illustrate the mutations\n",
        "  # Where the original solution was in the center and red is the mutated one\n",
        "  if illustrate_mutation:\n",
        "    fig, ax = plt.subplots()\n",
        "    circle = plt.Circle((solution.representation.x, solution.representation.y), \\\n",
        "                        0.1, zorder=0)\n",
        "    ax.scatter(x, y, c='r', marker='o', edgecolors='black', linewidths=0.2, \\\n",
        "               zorder=1)\n",
        "    ax.add_patch(circle)\n",
        "    ax.set_aspect('equal', 'box')\n",
        "    plt.show()\n",
        "  return Solution(Point(x, y, z_function))"
      ],
      "metadata": {
        "id": "JywKnYm3OQyx"
      },
      "execution_count": null,
      "outputs": []
    },
    {
      "cell_type": "markdown",
      "source": [
        "***Question 7: Why is the selection procedure called a 'tournament'?***"
      ],
      "metadata": {
        "id": "JqPeQ5eOgUB3"
      }
    },
    {
      "cell_type": "markdown",
      "source": [
        "Next, we extend the RandomSearch class with the Genetic Algorihm."
      ],
      "metadata": {
        "id": "066WTRHLSdHT"
      }
    },
    {
      "cell_type": "code",
      "source": [
        "class GeneticAlgorithm(RandomSearch):\n",
        "  def __init__(self, problem_instance, random_state, initial_solution, z_function,\\\n",
        "                 population_size, selection, crossover, crossover_probability, \\\n",
        "                 mutation, mutation_probability, survival):\n",
        "    RandomSearch.__init__(self, problem_instance, random_state, \\\n",
        "                              initial_solution, z_function)\n",
        "    # The new attributes compared to random search\n",
        "    self.population_size = population_size\n",
        "    self.selection = selection\n",
        "    self.crossover = crossover\n",
        "    self.crossover_probability = crossover_probability\n",
        "    self.mutation = mutation\n",
        "    self.mutation_probability = mutation_probability\n",
        "    self.survival = survival\n",
        "    self.initialize()\n",
        "\n",
        "  def initialize(self):\n",
        "    # Generate a population\n",
        "    # Note, the hiker does not have a starting point here!\n",
        "    self.population = self.generate_random_valid_chromosomes()\n",
        "    self.elite = self.get_elite()\n",
        "\n",
        "  def search(self, n_iterations, max_stepsize, report=False):\n",
        "    # This is the search procedure itself\n",
        "    elite_solutions = []\n",
        "\n",
        "    for iteration in range(n_iterations):\n",
        "      offsprings = []\n",
        "      copy_parent_population = deepcopy(self.population)\n",
        "\n",
        "      # Produce children (two at a time) until we have enough\n",
        "      # For a new generation\n",
        "      while len(offsprings) < len(self.population):\n",
        "        # Generate the new variables\n",
        "        # Initially parents and children are the same\n",
        "        off1, off2 = p1, p2 = [self.selection(self.population, \\\n",
        "                                              self.problem_instance.minimization, \\\n",
        "                                              self.random_state) for _ in range(2)]\n",
        "\n",
        "        # If it is decided that we'll do a crossover\n",
        "        # Do this with the parents and create the children\n",
        "        if self.random_state.uniform() < self.crossover_probability:\n",
        "          off1, off2 = self.crossover(p1, p2, self.random_state, self.z_function)\n",
        "\n",
        "        # If it is decided that we'll (also) perform mutation\n",
        "        # Do this with the children\n",
        "        if self.random_state.uniform() < self.mutation_probability:\n",
        "          off1 = self.mutation(off1, self.random_state, \\\n",
        "                               max_step_size= max_stepsize, \\\n",
        "                               z_function = self.z_function)\n",
        "          off2 = self.mutation(off2, self.random_state, \\\n",
        "                               max_step_size= max_stepsize, \\\n",
        "                               z_function = self.z_function)\n",
        "\n",
        "        # Compute the fitness of new individuals\n",
        "        if not hasattr(off1, 'fitness'):\n",
        "          self.problem_instance.evaluate(off1)\n",
        "        if not hasattr(off2, 'fitness'):\n",
        "          self.problem_instance.evaluate(off2)\n",
        "\n",
        "        offsprings.extend([off1, off2])\n",
        "\n",
        "      # If we overshoot (make too many children), throw one out\n",
        "      while len(offsprings) > len(self.population):\n",
        "        offsprings.pop()\n",
        "\n",
        "      # For convenience turn list into numpy array\n",
        "      offsprings = np.array(offsprings)\n",
        "\n",
        "      # Compute who survives into the new generation\n",
        "      self.population = self.survival(copy_parent_population, offsprings)\n",
        "      for i,j in zip(self.population, self.population[1:]):\n",
        "        best = self.get_best(i, j)\n",
        "      self.best_solution = best\n",
        "      self.elite = self.get_elite()\n",
        "      elite_solutions.append(self.elite)\n",
        "\n",
        "      if report:\n",
        "        self.verbose_reporter_inner(self.elite, iteration)\n",
        "    return elite_solutions\n",
        "\n",
        "  def crossover(self, p1, p2, z_function):\n",
        "    off1, off2 = self.crossover(p1, p2, self.random_state, z_function)\n",
        "    off1, off2 = Solution(off1), Solution(off2)\n",
        "    return off1, off2\n",
        "\n",
        "  def mutation(self, chromosome, z_function):\n",
        "    mutant = self.mutation(chromosome, self.random_state, z_function)\n",
        "    mutant = Solution(mutant)\n",
        "    return mutant\n",
        "\n",
        "  def get_elite(self):\n",
        "    objective_values = []\n",
        "    for solution in self.population:\n",
        "      objective_values.append(solution.fitness)\n",
        "    objective_values = np.array(objective_values)\n",
        "    # Find the best half\n",
        "    # This is the half with the lowest objective values in case of minimization\n",
        "    # And with the highest objective values in case of maximization\n",
        "    if self.problem_instance.minimization:\n",
        "      elite_solution = self.population[np.unravel_index(np.argmin(objective_values, \\\n",
        "                                                                  axis=None), \\\n",
        "                                                        objective_values.shape)]\n",
        "    else:\n",
        "      elite_solution = self.population[np.unravel_index(np.argmax(objective_values, \\\n",
        "                                                                  axis=None), \\\n",
        "                                                        objective_values.shape)]\n",
        "    return elite_solution\n",
        "\n",
        "  def recombine(self):\n",
        "    pass\n",
        "\n",
        "  def phenotypic_diversity_shift(self, offsprings):\n",
        "    # Not used\n",
        "    fitness_parents = np.array([parent.fitness for parent in self.population])\n",
        "    fitness_offsprings = np.array([offspring.fitness for offspring in offsprings])\n",
        "    return np.std(fitness_offsprings)-np.std(fitness_parents)\n",
        "\n",
        "  def generate_random_valid_solution(self):\n",
        "    # To create the initial population\n",
        "    x_position = self.random_state.uniform(low=self.problem_instance.search_space[0][0],\n",
        "                                           high=self.problem_instance.search_space[0][1],\n",
        "                                           size=None)\n",
        "    y_position = self.random_state.uniform(low=self.problem_instance.search_space[1][0],\n",
        "                                           high=self.problem_instance.search_space[1][1],\n",
        "                                           size=None)\n",
        "\n",
        "    random_new_solution = Solution(Point(x_position, y_position, self.z_function))\n",
        "    self.problem_instance.evaluate(random_new_solution)\n",
        "    return random_new_solution\n",
        "\n",
        "  def generate_random_valid_chromosomes(self):\n",
        "    # To create the initial population\n",
        "    chromosomes = np.array([self.generate_random_valid_solution() \\\n",
        "                            for _ in range(self.population_size)])\n",
        "    return chromosomes\n"
      ],
      "metadata": {
        "id": "-qvnyhRMNVV6"
      },
      "execution_count": null,
      "outputs": []
    },
    {
      "cell_type": "code",
      "source": [
        "# Setup random state\n",
        "seed = 2\n",
        "random_state = get_random_state(seed)\n",
        "\n",
        "# Test for the simple problem\n",
        "p_start = Point(1, 0, get_z)\n",
        "start_solution = Solution(p_start)\n",
        "hiking_problem.evaluate(start_solution)\n",
        "\n",
        "#create a Genetic Algorithm instance\n",
        "ga1 = GeneticAlgorithm(problem_instance=hiking_problem,\n",
        "                          random_state=random_state,\n",
        "                          initial_solution=start_solution,\n",
        "                          z_function = get_z,\n",
        "                          population_size = 20,\n",
        "                          selection = tournament_selection,\n",
        "                          crossover = geometrical_crossover,\n",
        "                          crossover_probability = 0.8,\n",
        "                          mutation = ball_mutation,\n",
        "                          mutation_probability = 0.1,\n",
        "                          survival = select_best_from_parents_and_children\n",
        "                          )\n",
        "\n",
        "max_stepsize_for_ballmutation = 0.1\n",
        "\n",
        "# Optimize\n",
        "ga_solutions1 = ga1.search(n_iterations = 20, \\\n",
        "                         max_stepsize = max_stepsize_for_ballmutation)\n",
        "ga1.verbose_reporter()\n",
        "\n",
        "# Plot\n",
        "X = np.linspace(0, 1, 100)\n",
        "Y = np.linspace(0, 1, 100)\n",
        "X, Y = np.meshgrid(X, Y)\n",
        "fig = plt.figure()\n",
        "ax = plot_mountain(fig, X, Y, Z)\n",
        "for i in range(len(ga_solutions1)):\n",
        "  ax = plot_position(ax, ga_solutions1[i].representation, color='black', size=5)\n",
        "# show the plots\n",
        "plt.show()"
      ],
      "metadata": {
        "id": "SBd2og0_N-0i"
      },
      "execution_count": null,
      "outputs": []
    },
    {
      "cell_type": "markdown",
      "source": [
        "***Question 8: What is the performance of this algorithm in terms of finding the optimum as well as in terms of computation time?***"
      ],
      "metadata": {
        "id": "ULP-rHZ1hz_8"
      }
    },
    {
      "cell_type": "markdown",
      "source": [
        "# Comparison between algorithms\n",
        "\n",
        "Let's compare the paths toward the optimum that the two search algorithms, Random Search and Simulated Annealing, took. (We cannot compare the path of the GA, because it is population-based.)"
      ],
      "metadata": {
        "id": "wxYth2lmA-am"
      }
    },
    {
      "cell_type": "markdown",
      "source": [
        "***Question 9: Why can we not compare the path towards the optimum for the GA?***"
      ],
      "metadata": {
        "id": "dCklrD4hTvPd"
      }
    },
    {
      "cell_type": "code",
      "source": [
        "# Set up an empty plot\n",
        "fig = plt.figure()\n",
        "# Produce the mountain plot\n",
        "ax = plot_mountain(fig,X,Y,Z)\n",
        "# Plot all positions of the hiker for both search algorithms\n",
        "ax = plot_position(ax, p_start)\n",
        "for i in range(len(random_search_solutions)):\n",
        "  ax = plot_position(ax, random_search_solutions[i].representation, color = 'black', size = 5 )\n",
        "for i in range(len(simulated_annealing_solutions)):\n",
        "  ax = plot_position(ax, simulated_annealing_solutions[i].representation, color = 'yellow', size = 5 )\n",
        "# Show the plot\n",
        "plt.show()"
      ],
      "metadata": {
        "id": "WjO8wohwqhDV"
      },
      "execution_count": null,
      "outputs": []
    },
    {
      "cell_type": "markdown",
      "source": [
        "What if we make the problem more difficult? We'll create a mountain area instead of a single mountain, where the highest mountain can be found in the corner of the area with the highest x and y coordinates. This means that the search algoritm has to pass through lower mountains (local maxima) and valleys before reaching a highest mountain."
      ],
      "metadata": {
        "id": "aD1CqSHoAAhs"
      }
    },
    {
      "cell_type": "code",
      "source": [
        "X = np.linspace(0, 3, 100)\n",
        "Y = np.linspace(0, 3, 100)\n",
        "X, Y = np.meshgrid(X, Y)\n",
        "\n",
        "complex_mountain_boundary=[[0,3],[0,3]]\n",
        "complex_hiking_problem = ContinuousProblem(search_space = complex_mountain_boundary, \\\n",
        "                                           objective_function = get_elevation)\n",
        "\n",
        "# Again, we use the rastrigin function to simulate the mountains\n",
        "Z_complex = (X**2 - 10 * np.cos(2 * np.pi * X)) + \\\n",
        "              (Y**2 - 10 * np.cos(2 * np.pi * Y)) + 20\n",
        "\n",
        "# And make a function for it\n",
        "def get_z_complex(x,y):\n",
        "  z_complex = (x**2 - 10 * np.cos(2 * np.pi * x)) + \\\n",
        "              (y**2 - 10 * np.cos(2 * np.pi * y)) + 20\n",
        "  return z_complex\n",
        "\n",
        "fig = plt.figure()\n",
        "# Produce the mountain plot\n",
        "ax = plot_mountain(fig,X,Y,Z_complex)\n",
        "plt.show()"
      ],
      "metadata": {
        "id": "zZPICmXo4Sgs"
      },
      "execution_count": null,
      "outputs": []
    },
    {
      "cell_type": "code",
      "source": [
        "# Define the starting point again.\n",
        "# Note that the map is larger, x and y can now vary between 0 and 3.\n",
        "p_start = Point(0, 1, get_z_complex)\n",
        "# Perform Random Search on the complex problem\n",
        "start_solution = Solution(p_start)\n",
        "complex_hiking_problem.evaluate(start_solution)\n",
        "\n",
        "rs = RandomSearch(complex_hiking_problem, random_state, max_stepsize= 0.2,\\\n",
        "                  initial_solution = start_solution, z_function = get_z_complex)\n",
        "\n",
        "complex_random_search_solutions = rs.search(n_iterations=2000, report=False)\n",
        "rs.verbose_reporter()"
      ],
      "metadata": {
        "id": "BiSuFnxO5BzN"
      },
      "execution_count": null,
      "outputs": []
    },
    {
      "cell_type": "code",
      "source": [
        "# Perform Simulated Annealing on the complex problem\n",
        "sa = Annealing(problem_instance = complex_hiking_problem,max_stepsize= 0.2, \\\n",
        "               random_state = random_state,\n",
        "               initial_solution = start_solution, z_function = get_z_complex)\n",
        "\n",
        "complex_simulated_annealing_solutions = sa.search(n_iterations=2000, report=False)\n",
        "sa.verbose_reporter()"
      ],
      "metadata": {
        "id": "WwFScoNi5KIU"
      },
      "execution_count": null,
      "outputs": []
    },
    {
      "cell_type": "code",
      "source": [
        "# Perform the GA for the complex problem\n",
        "seed = 5\n",
        "random_state = get_random_state(seed)\n",
        "\n",
        "p_start = Point(1, 0, get_z_complex)\n",
        "start_solution = Solution(p_start)\n",
        "complex_hiking_problem.evaluate(start_solution)\n",
        "\n",
        "#create a Genetic Algorithm instance\n",
        "ga2 = GeneticAlgorithm(problem_instance=complex_hiking_problem,\n",
        "                       random_state=random_state,\n",
        "                       initial_solution=start_solution,\n",
        "                       z_function = get_z_complex,\n",
        "                       population_size = 20,\n",
        "                       selection = tournament_selection,\n",
        "                       crossover = geometrical_crossover,\n",
        "                       crossover_probability = 0.8,\n",
        "                       mutation = ball_mutation,\n",
        "                       mutation_probability = 0.1,\n",
        "                       survival = select_best_from_parents_and_children\n",
        "                       )\n",
        "\n",
        "max_stepsize_for_ballmutation = 0.1\n",
        "\n",
        "# Optimize\n",
        "ga_solutions2 = ga2.search(n_iterations = 20, \\\n",
        "                         max_stepsize = max_stepsize_for_ballmutation)\n",
        "ga2.verbose_reporter()"
      ],
      "metadata": {
        "id": "4EnOddtnnOFa"
      },
      "execution_count": null,
      "outputs": []
    },
    {
      "cell_type": "markdown",
      "source": [
        "Let's compare all three algorithms in terms of the found optima (and the paths toward the optimum for Random Search and SA) for this more complex problem. Note that we have used a larger step size for the larger area. This influences the comparison (try it!)."
      ],
      "metadata": {
        "id": "Mrokf-LGAUbM"
      }
    },
    {
      "cell_type": "code",
      "source": [
        "#set up an empty plot\n",
        "fig = plt.figure()\n",
        "# produce the mountain plot\n",
        "ax = plot_mountain(fig,X,Y,Z_complex)\n",
        "#produce the hike position plot\n",
        "ax = plot_position(ax, p_start)\n",
        "for i in range(len(complex_random_search_solutions)):\n",
        "  ax = plot_position(ax, complex_random_search_solutions[i].representation, \\\n",
        "                     color = 'black', size = 5)\n",
        "for i in range(len(complex_simulated_annealing_solutions)):\n",
        "  ax = plot_position(ax, complex_simulated_annealing_solutions[i].representation, \\\n",
        "                     color = 'yellow', size = 5)\n",
        "for i in range(len(ga_solutions2)):\n",
        "  ax = plot_position(ax, ga_solutions2[i].representation, color='blue', size=5)\n",
        "#show the plots\n",
        "plt.show()"
      ],
      "metadata": {
        "id": "M7DgTtiT5mr9"
      },
      "execution_count": null,
      "outputs": []
    },
    {
      "cell_type": "markdown",
      "source": [
        "***Question 10: What is your conclusion about these three algorithms for this more complex optimization problem?***"
      ],
      "metadata": {
        "id": "KkaI-I_IjjMM"
      }
    },
    {
      "cell_type": "markdown",
      "source": [
        "This was the end of the practical. Following up on this practical, you may consider:\n",
        "*   Testing the effects of different values for the hyper-parameters\n",
        "*   Implementing multi-objective optimization problems\n",
        "*   Solving problems where the decision variable is more complex than the position of a single point\n",
        "\n"
      ],
      "metadata": {
        "id": "ITG5vhBdo-6H"
      }
    }
  ]
}